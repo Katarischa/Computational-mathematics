{
 "cells": [
  {
   "cell_type": "code",
   "execution_count": 2,
   "metadata": {},
   "outputs": [],
   "source": [
    "import numpy as np\n",
    "from matplotlib import pyplot as plt\n",
    "from sklearn.preprocessing import PolynomialFeatures\n",
    "from sklearn.model_selection import KFold\n",
    "import sklearn as sk\n",
    "from sklearn import datasets, linear_model"
   ]
  },
  {
   "cell_type": "markdown",
   "metadata": {},
   "source": [
    "# Задача 1"
   ]
  },
  {
   "cell_type": "markdown",
   "metadata": {},
   "source": [
    "$$L(\\mu,\\sigma) = \\prod\\limits_{n = 1}p_i(x)\\longrightarrow \\text{max}_{\\mu,\\sigma}\\;\\;\\;\\;\\;\\;p(x) = \\frac{1}{\\sqrt{2\\pi\\sigma^2}}e^{-\\frac{(x-\\mu)^2}{2\\sigma^2}}$$\n",
    "1) $$l = \\ln(L) = \\ln\\left(\\frac{1}{(2\\pi\\sigma^2)^{n/2}}\\right)-\\sum\\limits_i^n\\frac{(x_i-\\mu)^2}{2\\sigma^2} = -\\frac{n}{2}\\ln(2\\pi\\sigma^2)-\\sum\\limits_i^n\\frac{(x_i-\\mu)^2}{2\\sigma^2}$$\n",
    "2) * $$\\frac{\\partial}{\\partial \\sigma}l = -\\frac{n\\sigma}{\\sigma^2} + \\sum\\limits_{i=1}^n\\frac{(x_i-mu)^2}{\\sigma^3} = 0$$\n",
    "      $$\\sigma^2 = \\frac{\\sum\\limits_{i=1}^n(x_i-\\mu)^2}{n}$$\n",
    "   * $$\\frac{\\partial}{\\partial \\mu}l = \\frac{1}{2\\sigma^2}\\sum\\limits_i^n2(\\mu-x_i) = 0$$\n",
    "      $$n\\mu - \\sum\\limits_{i=1}^nx_i = 0$$\n",
    "      $$\\mu = \\frac{\\sum\\limits_{i=1}^nx_i}{n} = \\overline{x}$$"
   ]
  },
  {
   "cell_type": "markdown",
   "metadata": {},
   "source": [
    "# Задача 2"
   ]
  },
  {
   "cell_type": "markdown",
   "metadata": {},
   "source": [
    "$$P_{\\lambda}(n) = \\frac{\\lambda^n}{n!}e^{-\\lambda}$$\n",
    "\n",
    "Используя теорему Байеса, получаем:\n",
    "1) $\\rho(\\lambda|m) = \\frac{p(m|\\lambda)\\rho(\\lambda)}{\\int\\limits_0^{\\infty}p(m|\\lambda)\\rho(\\lambda)d\\lambda} \\approx = \\frac{p(m|\\lambda)\\rho(0)}{\\int\\limits_0^{\\infty}p(m|\\lambda)\\rho(0)d\\lambda} = \\frac{p(m|\\lambda)}{\\int\\limits_0^{\\infty}p(m|\\lambda)d\\lambda} = \\frac{\\lambda^m}{m!}e^{-\\lambda}\\left[\\int\\limits_{0}^{\\infty}\\frac{\\lambda^m}{m!}e^{-\\lambda}d\\lambda\\right]^{-1} = \\frac{\\lambda^me^{-\\lambda}}{\\Gamma(m+1)} = \\frac{\\lambda^me^{-\\lambda}}{m!}$\n",
    "\n",
    "2) Проводим ещё один опыт, получая $m'$:  $\\;\\rho(\\lambda|m,m') = \\frac{P_{\\lambda}(m')\\rho(\\lambda|m)}{\\int\\limits_{0}^{\\infty}d\\lambda P_{\\lambda}(m')\\rho(\\lambda|m)} = \\lambda^{m + m'}e^{-2\\lambda}\\left[\\int\\limits_0^{\\infty}d\\lambda e^{-2\\lambda}\\lambda^{m+m'}\\right]^{-1} = \\lambda^{m + m'}e^{-2\\lambda}2^{m+m'+1}\\left[\\int\\limits_0^{\\infty}d(2\\lambda) e^{-2\\lambda}(2\\lambda)^{m+m'}\\right]^{-1} = \\frac{2^{m + m' + 1}}{(m + m')!}\\lambda^{m + m'}e^{-2\\lambda}$"
   ]
  },
  {
   "cell_type": "markdown",
   "metadata": {},
   "source": [
    "# Задача 3"
   ]
  },
  {
   "cell_type": "markdown",
   "metadata": {},
   "source": [
    "1) Рассмотрим два события: А - Петя болеет, B - тест положителен. Следует отметить, что эти два события не независимы. Тогда:\n",
    "    $$P(A|B) = \\frac{P(A\\cap B)}{P(B)}$$\n",
    "    Так как тест даёт верный результат в 99 \\% случаев, то: $P(A\\cap B) = 10^{-5}*0,99$\n",
    "    \n",
    "    Вероятность получить полжительный тест: $P(B) = P(\\text{болеет и тест полож}) + P(\\text{не болеет и тест полож})= 10^{-5}*0.99 + (1-10^{-5})*0.01\\approx0.01$\n",
    "    Тогда:\n",
    "    $$P(A|B) = \\frac{P(A\\cap B)}{P(B)}\\approx\\frac{10^{-5}}{10^{-2}} = 10^{-3}$$\n",
    "\n",
    "\n",
    "2) Найдем вероятность, что Петя ,болен, если получил два полож теста:\n",
    "    $$P((A|B)|B) = \\frac{P((A|B)\\cap B)}{P(B)}$$\n",
    "    Посчитаем поточнее:\n",
    "    $$\\begin{cases}P(A|B) = 0,000989\\\\ P((A|B)\\cap B) = P(A|B)*0,99 \\\\ P(B) \\approx 0,01\\end{cases} \\Longrightarrow P((A|B)|B) \\approx 0,098$$"
   ]
  },
  {
   "cell_type": "markdown",
   "metadata": {},
   "source": [
    "# Задача 5"
   ]
  },
  {
   "cell_type": "code",
   "execution_count": 3,
   "metadata": {},
   "outputs": [
    {
     "data": {
      "image/png": "[encoded data removed]",
      "text/plain": [
       "<Figure size 432x288 with 1 Axes>"
      ]
     },
     "metadata": {
      "needs_background": "light"
     },
     "output_type": "display_data"
    }
   ],
   "source": [
    "size = 200\n",
    "x = np.linspace(0,1,size)\n",
    "y = np.exp(-x**2)+x**10+np.random.normal(0, 0.01, x.shape)\n",
    "fig, ax = plt.subplots()\n",
    "ax.scatter(x,y, marker = '.')\n",
    "ax.grid()\n",
    "plt.show()"
   ]
  },
  {
   "cell_type": "code",
   "execution_count": 69,
   "metadata": {},
   "outputs": [
    {
     "name": "stdout",
     "output_type": "stream",
     "text": [
      "1)\n",
      "1)\n",
      "1)\n"
     ]
    }
   ],
   "source": [
    "MAX_ORDER = 7\n",
    "polynomial_features = PolynomialFeatures(MAX_ORDER, include_bias=False)\n",
    "X = polynomial_features.fit_transform(x.reshape(-1,1))\n",
    "#отнормируем столбцы матрицы X\n",
    "Xn = (X-np.mean(X,axis=0))/(np.std(X,axis=0)+0.1)\n",
    "Xn = np.hstack((np.ones((Xn.shape[0],1)),Xn))\n",
    "#Возьмём функцию градиентного спуска из семинара A3\n",
    "def make_L1_regression_grad_descent_iteration(X, y, w, Mu, alpha):\n",
    "    grad = 2 * (X @ w - y) @ X + 2 * Mu * np.sign(w)\n",
    "    w -= alpha * grad\n",
    "    return w\n",
    "\n",
    "#Обучение с кросс-валидацией\n",
    "kf = KFold(n_splits=3)\n",
    "kf.get_n_splits(Xn, y)\n",
    "n = 10\n",
    "mu = np.linspace(0, 0.03, n)\n",
    "mu_optimum = []\n",
    "alpha = np.linspace(0, 0.00003, n)\n",
    "alpha_optimum = []\n",
    "Norm = []\n",
    "L = np.zeros((n,n))\n",
    "for train_index, test_index in kf.split(Xn, y):\n",
    "    for i in range (len(alpha)):\n",
    "        for j in range (len(mu)):\n",
    "            w0 = np.random.normal(0, 0.01, Xn[train_index].shape[1])\n",
    "            w = make_L1_regression_grad_descent_iteration(Xn[train_index], y[train_index], w0, mu[i], alpha[j])\n",
    "            for k in range (10000):\n",
    "                w = make_L1_regression_grad_descent_iteration(Xn[train_index], y[train_index], w, mu[i], alpha[j])\n",
    "            L[i,j] = np.sum((Xn[train_index] @ w - y[train_index])**2)\n",
    "    ind = np.argmin(L)\n",
    "    alpha_opt = alpha[ind-int(ind/n) * n]\n",
    "    alpha_optimum.append(alpha_opt)\n",
    "    mu_opt = mu[int(ind/n)]\n",
    "    mu_optimum.append(mu_opt)\n",
    "    #теперь применяем модель к тестовой выборке и считаем норму L (потом выберем какая модель лучше минимизирует)\n",
    "    w1 = np.random.normal(0, 0.01, Xn[test_index].shape[1])\n",
    "    w = make_L1_regression_grad_descent_iteration(Xn[test_index], y[test_index], w1, mu_opt, alpha_opt)\n",
    "    for i in range (10000):\n",
    "           w =  make_L1_regression_grad_descent_iteration(Xn[test_index], y[test_index], w, mu_opt, alpha_opt)\n",
    "    Norm.append(np.sum((Xn[test_index] @ w - y[test_index])**2))"
   ]
  },
  {
   "cell_type": "markdown",
   "metadata": {},
   "source": [
    "Найдем минимальную норму и соответствующие ей оптимальные $\\mu$ и $\\alpha$"
   ]
  },
  {
   "cell_type": "code",
   "execution_count": 74,
   "metadata": {},
   "outputs": [
    {
     "name": "stdout",
     "output_type": "stream",
     "text": [
      "оптимальный альфа:  3e-05 \n",
      "оптимальный мю:  0.006666666666666666\n"
     ]
    }
   ],
   "source": [
    "min = np.argmin(Norm)\n",
    "print('оптимальный альфа: ',alpha_optimum[min],'\\nоптимальный мю: ',mu_optimum[min])"
   ]
  },
  {
   "cell_type": "markdown",
   "metadata": {},
   "source": [
    "Подбор коэффициентов вышел довольно плохо оптимизированным, однако полученные коэффициенты действительно лучше приближают нашу функцию, что видно ниже:"
   ]
  },
  {
   "cell_type": "code",
   "execution_count": 76,
   "metadata": {},
   "outputs": [
    {
     "name": "stdout",
     "output_type": "stream",
     "text": [
      "score = 0.0685687974630201\n"
     ]
    },
    {
     "data": {
      "image/png": "[encoded data removed]",
      "text/plain": [
       "<Figure size 432x288 with 1 Axes>"
      ]
     },
     "metadata": {
      "needs_background": "light"
     },
     "output_type": "display_data"
    },
    {
     "name": "stdout",
     "output_type": "stream",
     "text": [
      "score = 0.19828696395533976\n"
     ]
    },
    {
     "data": {
      "image/png": "[encoded data removed]",
      "text/plain": [
       "<Figure size 432x288 with 1 Axes>"
      ]
     },
     "metadata": {
      "needs_background": "light"
     },
     "output_type": "display_data"
    }
   ],
   "source": [
    "# подобранные коэффициенты\n",
    "w0 = np.random.normal(0, 0.01, Xn.shape[1])\n",
    "w = make_L1_regression_grad_descent_iteration(Xn, y, w0, mu_optimum[min], alpha_optimum[min])\n",
    "for i in range (10000):\n",
    "      make_L1_regression_grad_descent_iteration(Xn, y, w, mu_optimum[min], alpha_optimum[min])\n",
    "plt.scatter(x, y, color=\"r\", marker = '.')\n",
    "plt.plot(x, Xn @ w, color=\"b\")\n",
    "plt.title('подобранные коэффициенты')\n",
    "print(\"score =\", np.sum((Xn @ w - y)**2))\n",
    "plt.show()\n",
    "#коэффициенты с семинара\n",
    "w0 = np.random.normal(0, 0.01, Xn.shape[1])\n",
    "w = make_L1_regression_grad_descent_iteration(Xn, y, w0, 0.01, 0.00001)\n",
    "for i in range (10000):\n",
    "      make_L1_regression_grad_descent_iteration(Xn, y, w, 0.01, 0.00001)\n",
    "plt.scatter(x, y, color=\"r\", marker = '.')\n",
    "plt.plot(x, Xn @ w, color=\"b\")\n",
    "plt.title('коэффициенты с семинара')\n",
    "print(\"score =\", np.sum((Xn @ w - y)**2))\n",
    "plt.show()"
   ]
  },
  {
   "cell_type": "markdown",
   "metadata": {},
   "source": [
    "# Задача 6"
   ]
  },
  {
   "cell_type": "code",
   "execution_count": 93,
   "metadata": {},
   "outputs": [],
   "source": [
    "import sklearn as sk\n",
    "from sklearn import datasets, linear_model"
   ]
  },
  {
   "cell_type": "code",
   "execution_count": 94,
   "metadata": {},
   "outputs": [
    {
     "data": {
      "text/plain": [
       "{'data': array([[ 0.03807591,  0.05068012,  0.06169621, ..., -0.00259226,\n",
       "          0.01990842, -0.01764613],\n",
       "        [-0.00188202, -0.04464164, -0.05147406, ..., -0.03949338,\n",
       "         -0.06832974, -0.09220405],\n",
       "        [ 0.08529891,  0.05068012,  0.04445121, ..., -0.00259226,\n",
       "          0.00286377, -0.02593034],\n",
       "        ...,\n",
       "        [ 0.04170844,  0.05068012, -0.01590626, ..., -0.01107952,\n",
       "         -0.04687948,  0.01549073],\n",
       "        [-0.04547248, -0.04464164,  0.03906215, ...,  0.02655962,\n",
       "          0.04452837, -0.02593034],\n",
       "        [-0.04547248, -0.04464164, -0.0730303 , ..., -0.03949338,\n",
       "         -0.00421986,  0.00306441]]),\n",
       " 'target': array([151.,  75., 141., 206., 135.,  97., 138.,  63., 110., 310., 101.,\n",
       "         69., 179., 185., 118., 171., 166., 144.,  97., 168.,  68.,  49.,\n",
       "         68., 245., 184., 202., 137.,  85., 131., 283., 129.,  59., 341.,\n",
       "         87.,  65., 102., 265., 276., 252.,  90., 100.,  55.,  61.,  92.,\n",
       "        259.,  53., 190., 142.,  75., 142., 155., 225.,  59., 104., 182.,\n",
       "        128.,  52.,  37., 170., 170.,  61., 144.,  52., 128.,  71., 163.,\n",
       "        150.,  97., 160., 178.,  48., 270., 202., 111.,  85.,  42., 170.,\n",
       "        200., 252., 113., 143.,  51.,  52., 210.,  65., 141.,  55., 134.,\n",
       "         42., 111.,  98., 164.,  48.,  96.,  90., 162., 150., 279.,  92.,\n",
       "         83., 128., 102., 302., 198.,  95.,  53., 134., 144., 232.,  81.,\n",
       "        104.,  59., 246., 297., 258., 229., 275., 281., 179., 200., 200.,\n",
       "        173., 180.,  84., 121., 161.,  99., 109., 115., 268., 274., 158.,\n",
       "        107.,  83., 103., 272.,  85., 280., 336., 281., 118., 317., 235.,\n",
       "         60., 174., 259., 178., 128.,  96., 126., 288.,  88., 292.,  71.,\n",
       "        197., 186.,  25.,  84.,  96., 195.,  53., 217., 172., 131., 214.,\n",
       "         59.,  70., 220., 268., 152.,  47.,  74., 295., 101., 151., 127.,\n",
       "        237., 225.,  81., 151., 107.,  64., 138., 185., 265., 101., 137.,\n",
       "        143., 141.,  79., 292., 178.,  91., 116.,  86., 122.,  72., 129.,\n",
       "        142.,  90., 158.,  39., 196., 222., 277.,  99., 196., 202., 155.,\n",
       "         77., 191.,  70.,  73.,  49.,  65., 263., 248., 296., 214., 185.,\n",
       "         78.,  93., 252., 150.,  77., 208.,  77., 108., 160.,  53., 220.,\n",
       "        154., 259.,  90., 246., 124.,  67.,  72., 257., 262., 275., 177.,\n",
       "         71.,  47., 187., 125.,  78.,  51., 258., 215., 303., 243.,  91.,\n",
       "        150., 310., 153., 346.,  63.,  89.,  50.,  39., 103., 308., 116.,\n",
       "        145.,  74.,  45., 115., 264.,  87., 202., 127., 182., 241.,  66.,\n",
       "         94., 283.,  64., 102., 200., 265.,  94., 230., 181., 156., 233.,\n",
       "         60., 219.,  80.,  68., 332., 248.,  84., 200.,  55.,  85.,  89.,\n",
       "         31., 129.,  83., 275.,  65., 198., 236., 253., 124.,  44., 172.,\n",
       "        114., 142., 109., 180., 144., 163., 147.,  97., 220., 190., 109.,\n",
       "        191., 122., 230., 242., 248., 249., 192., 131., 237.,  78., 135.,\n",
       "        244., 199., 270., 164.,  72.,  96., 306.,  91., 214.,  95., 216.,\n",
       "        263., 178., 113., 200., 139., 139.,  88., 148.,  88., 243.,  71.,\n",
       "         77., 109., 272.,  60.,  54., 221.,  90., 311., 281., 182., 321.,\n",
       "         58., 262., 206., 233., 242., 123., 167.,  63., 197.,  71., 168.,\n",
       "        140., 217., 121., 235., 245.,  40.,  52., 104., 132.,  88.,  69.,\n",
       "        219.,  72., 201., 110.,  51., 277.,  63., 118.,  69., 273., 258.,\n",
       "         43., 198., 242., 232., 175.,  93., 168., 275., 293., 281.,  72.,\n",
       "        140., 189., 181., 209., 136., 261., 113., 131., 174., 257.,  55.,\n",
       "         84.,  42., 146., 212., 233.,  91., 111., 152., 120.,  67., 310.,\n",
       "         94., 183.,  66., 173.,  72.,  49.,  64.,  48., 178., 104., 132.,\n",
       "        220.,  57.]),\n",
       " 'frame': None,\n",
       " 'DESCR': '.. _diabetes_dataset:\\n\\nDiabetes dataset\\n----------------\\n\\nTen baseline variables, age, sex, body mass index, average blood\\npressure, and six blood serum measurements were obtained for each of n =\\n442 diabetes patients, as well as the response of interest, a\\nquantitative measure of disease progression one year after baseline.\\n\\n**Data Set Characteristics:**\\n\\n  :Number of Instances: 442\\n\\n  :Number of Attributes: First 10 columns are numeric predictive values\\n\\n  :Target: Column 11 is a quantitative measure of disease progression one year after baseline\\n\\n  :Attribute Information:\\n      - age     age in years\\n      - sex\\n      - bmi     body mass index\\n      - bp      average blood pressure\\n      - s1      tc, total serum cholesterol\\n      - s2      ldl, low-density lipoproteins\\n      - s3      hdl, high-density lipoproteins\\n      - s4      tch, total cholesterol / HDL\\n      - s5      ltg, possibly log of serum triglycerides level\\n      - s6      glu, blood sugar level\\n\\nNote: Each of these 10 feature variables have been mean centered and scaled by the standard deviation times `n_samples` (i.e. the sum of squares of each column totals 1).\\n\\nSource URL:\\nhttps://www4.stat.ncsu.edu/~boos/var.select/diabetes.html\\n\\nFor more information see:\\nBradley Efron, Trevor Hastie, Iain Johnstone and Robert Tibshirani (2004) \"Least Angle Regression,\" Annals of Statistics (with discussion), 407-499.\\n(https://web.stanford.edu/~hastie/Papers/LARS/LeastAngle_2002.pdf)',\n",
       " 'feature_names': ['age',\n",
       "  'sex',\n",
       "  'bmi',\n",
       "  'bp',\n",
       "  's1',\n",
       "  's2',\n",
       "  's3',\n",
       "  's4',\n",
       "  's5',\n",
       "  's6'],\n",
       " 'data_filename': 'diabetes_data.csv.gz',\n",
       " 'target_filename': 'diabetes_target.csv.gz',\n",
       " 'data_module': 'sklearn.datasets.data'}"
      ]
     },
     "execution_count": 94,
     "metadata": {},
     "output_type": "execute_result"
    }
   ],
   "source": [
    "diabetes = datasets.load_diabetes()\n",
    "diabetes"
   ]
  },
  {
   "cell_type": "code",
   "execution_count": 101,
   "metadata": {},
   "outputs": [
    {
     "data": {
      "image/png": "[encoded data removed]",
      "text/plain": [
       "<Figure size 720x432 with 1 Axes>"
      ]
     },
     "metadata": {
      "needs_background": "light"
     },
     "output_type": "display_data"
    }
   ],
   "source": [
    "x, y = diabetes.data, diabetes.target\n",
    "n = 100\n",
    "mu = np.linspace(0.1, 2.5, n)\n",
    "w = []\n",
    "for m in mu:\n",
    "    l1 = linear_model.Lasso(alpha = m)\n",
    "    l1.fit(x, y)\n",
    "    w.append(np.sum(l1.coef_**2))\n",
    "\n",
    "plt.figure(figsize=(10, 6))\n",
    "plt.plot(mu, w)\n",
    "plt.xlabel('alpha')\n",
    "plt.ylabel('||w||')\n",
    "plt.show()"
   ]
  },
  {
   "cell_type": "markdown",
   "metadata": {},
   "source": [
    "# Задача 7"
   ]
  },
  {
   "cell_type": "markdown",
   "metadata": {},
   "source": [
    "1) Формулировка задачу на лассо Тибширани:\n",
    "    $$\\mathfrak L  =\\|Xw-y\\|^2 \\longrightarrow \\text{min}_w,\\;\\;\\;\\;\\sum\\limits_{\\alpha}|w_{\\alpha}|<C,$$ \n",
    "2) Формулирровка задачи Каруша-Куна-Таккера:\n",
    "\n",
    "    **Постановка задачи:**\n",
    "    \n",
    "    Требуется найти значение переменной $x = (x_1...x_n)$ минимизирующее целевую функцию $\\text{min}_{x\\in X} f(x)$ при наличие ограничений вида $g_i(x) \\leq 0,\\; i\\in\\overline{1,m}$\n",
    "\n",
    "    **Необходимые условия:**\n",
    "\n",
    "    Если $\\hat{x}\\in \\text{argmin}f$ при наложенных ограничениях, то $\\exists \\lambda\\in\\mathfrak{R}^n:$ для $L(x) =f(x) + \\sum\\limits_{i=1}^m\\lambda_ig_i(x)$ выполнено:\n",
    "    * $\\text{min}L(x)= L(\\hat x)$\n",
    "    * $\\lambda_ig_i(\\hat x) = 0,\\;i\\in\\overline{1,m}$\n",
    "    * $\\lambda_i\\geq 0,\\;i\\in\\overline{1,n}$\n",
    "\n",
    "    **Достаточные условия**\n",
    "\n",
    "    Необходимые + $\\lambda_1 >0$\n",
    "    "
   ]
  },
  {
   "cell_type": "markdown",
   "metadata": {},
   "source": [
    "3) Докажем в одну сторону: пусть $\\hat{w}$ - минимизирует лассо Тишбирани при наличие гран условия $\\sum\\limits_{\\alpha}|w_{\\alpha}| - C <0$. Это эквивалентно выполнению задачи Т-К-Т. Тогда выполнены необходимые условия и $L(\\hat w) = \\|X\\hat w - y\\|^2 + \\lambda(\\sum\\limits_{\\alpha}|w_{\\alpha}| - C) = \\text{min}_w L(w)$. А это не что иное, как выполнение задачи L1 регуляризации.\n",
    "\n",
    "4) Обратно: пусть $\\hat{w}$ - решение L1 регуляризаци, т е оно минимизирует функционал $L(w) = \\|X w - y\\|^2 + \\mu(\\sum\\limits_{\\alpha}|w_{\\alpha}|)$, где $\\mu>0$. Очевидно, что $\\hat{w}$ также минимизирует и функционал $L(w) - \\mu C$, а это уже задача на лассо Тибширани с $\\lambda = \\mu\\geq 0$"
   ]
  }
 ],
 "metadata": {
  "kernelspec": {
   "display_name": "Python 3 (ipykernel)",
   "language": "python",
   "name": "python3"
  },
  "language_info": {
   "codemirror_mode": {
    "name": "ipython",
    "version": 3
   },
   "file_extension": ".py",
   "mimetype": "text/x-python",
   "name": "python",
   "nbconvert_exporter": "python",
   "pygments_lexer": "ipython3",
   "version": "3.9.7"
  },
  "vscode": {
   "interpreter": {
    "hash": "92d2b8e594cd7c5fe295ecb292e5a85e4219fbf5a66ef0020aaca7015d212ad1"
   }
  }
 },
 "nbformat": 4,
 "nbformat_minor": 4
}
