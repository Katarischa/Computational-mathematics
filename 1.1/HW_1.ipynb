{
 "cells": [
  {
   "cell_type": "markdown",
   "id": "7772d01a",
   "metadata": {},
   "source": [
    "### 1. Numpy"
   ]
  },
  {
   "cell_type": "code",
   "execution_count": 11,
   "id": "379c4c68",
   "metadata": {},
   "outputs": [],
   "source": [
    "import numpy as np\n",
    "import scipy.stats as sps"
   ]
  },
  {
   "cell_type": "code",
   "execution_count": 3,
   "id": "5822586d",
   "metadata": {},
   "outputs": [
    {
     "name": "stdout",
     "output_type": "stream",
     "text": [
      "[ 1  2  3  4  5  6 11 12 13 14 15 16]\n"
     ]
    }
   ],
   "source": [
    "#1. оъединение матриц\n",
    "\n",
    "A = [1,2,3,4,5,6]\n",
    "B = [11,12,13,14,15,16]\n",
    "C = np.hstack((A,B))\n",
    "print(C)"
   ]
  },
  {
   "cell_type": "code",
   "execution_count": 4,
   "id": "5d0217e9",
   "metadata": {},
   "outputs": [
    {
     "name": "stdout",
     "output_type": "stream",
     "text": [
      "[[ 0  1  2  3  4  5  6  7  8  9]\n",
      " [10 11 12 13 14 15 16 17 18 19]\n",
      " [20 21 22 23 24 25 26 27 28 29]\n",
      " [30 31 32 33 34 35 36 37 38 39]\n",
      " [40 41 42 43 44 45 46 47 48 49]\n",
      " [50 51 52 53 54 55 56 57 58 59]\n",
      " [60 61 62 63 64 65 66 67 68 69]\n",
      " [70 71 72 73 74 75 76 77 78 79]\n",
      " [80 81 82 83 84 85 86 87 88 89]\n",
      " [90 91 92 93 94 95 96 97 98 99]]\n"
     ]
    },
    {
     "data": {
      "text/plain": [
       "array([ 9, 18, 27, 36, 45, 54, 63, 72, 81, 90])"
      ]
     },
     "execution_count": 4,
     "metadata": {},
     "output_type": "execute_result"
    }
   ],
   "source": [
    "#2. Массив элементов\n",
    "\n",
    "m = np.arange(0, 100).reshape((10, 10))\n",
    "print(m)\n",
    "a = np.array([0, 1, 2, 3, 4, 5, 6, 7, 8, 9])\n",
    "b = np.array([9, 8, 7, 6, 5, 4, 3, 2, 1, 0])\n",
    "\n",
    "m[a, b]"
   ]
  },
  {
   "cell_type": "code",
   "execution_count": 5,
   "id": "b959ebcb",
   "metadata": {},
   "outputs": [
    {
     "name": "stdout",
     "output_type": "stream",
     "text": [
      "[[ 1  2  1  5  0]\n",
      " [ 1  5  4 12  2]\n",
      " [ 2  3  0  6  0]\n",
      " [ 2  0  0  1  5]\n",
      " [ 7  2  1  9  0]]\n",
      "7\n"
     ]
    },
    {
     "data": {
      "text/plain": [
       "3"
      ]
     },
     "execution_count": 5,
     "metadata": {},
     "output_type": "execute_result"
    }
   ],
   "source": [
    "#3. След + ненулевые элементы\n",
    "\n",
    "m = np.array([[1, 2, 1, 5, 0], \n",
    "              [1, 5, 4, 12, 2], \n",
    "              [2, 3, 0, 6, 0], \n",
    "              [2, 0, 0, 1, 5], \n",
    "              [7, 2, 1, 9, 0]])\n",
    "print(m)\n",
    "print(np.trace(m))   \n",
    "np.count_nonzero(np.diag(m))"
   ]
  },
  {
   "cell_type": "code",
   "execution_count": 10,
   "id": "126d5e7a",
   "metadata": {},
   "outputs": [
    {
     "name": "stdout",
     "output_type": "stream",
     "text": [
      "[10 11 12 13 14 16 17 18 19 20 21 22 23 24 25 26 28 30 32 33 34 35 36 37\n",
      " 38 41 45]\n",
      "[2 5 3 1 1 1 1 1 1 1 1 1 1 1 1 1 1 2 1 1 1 1 1 1 1 1 2]\n"
     ]
    }
   ],
   "source": [
    "#4. Тензоры\n",
    "a = np.array([[[10, 11, 12, 13],\n",
    "              [14, 11, 16, 17],\n",
    "              [18, 19, 20, 21]],\n",
    "             [[22, 23, 24, 25],\n",
    "              [26, 12, 28, 10],\n",
    "              [30, 30, 32, 33]],\n",
    "             [[34, 35, 36, 37],\n",
    "              [38, 45, 11, 41],\n",
    "              [11, 11, 12, 45]]])\n",
    "values, counts = np.unique(a, return_counts=True)\n",
    "print(values)\n",
    "print(counts)"
   ]
  },
  {
   "cell_type": "code",
   "execution_count": 11,
   "id": "8348775c",
   "metadata": {},
   "outputs": [
    {
     "name": "stdout",
     "output_type": "stream",
     "text": [
      "[[ 4  0 31  6]\n",
      " [-3  5  0  0]\n",
      " [ 0  0  0  0]]\n"
     ]
    }
   ],
   "source": [
    "#5. Замена нулями\n",
    "\n",
    "a = np.array([[3, -8, 6, 5], \n",
    "              [6, 1, -4, -2], \n",
    "              [11, -3, -2, -2]])\n",
    "b = np.array([[4, 2, 31, 6], \n",
    "              [-3, 5, 2, -3], \n",
    "              [0, 0, 0, 0]])\n",
    "\n",
    "b[a < 0] = 0\n",
    "print(b)"
   ]
  },
  {
   "cell_type": "code",
   "execution_count": 20,
   "id": "76f84ff4",
   "metadata": {},
   "outputs": [
    {
     "name": "stdout",
     "output_type": "stream",
     "text": [
      "[[ 0.14247375  0.12979346  0.21718127]\n",
      " [-0.98749343 -1.11363218 -0.87282015]\n",
      " [-0.0900873  -0.4212952   1.18137776]\n",
      " [ 0.36916791 -1.55417228  0.47576959]]\n",
      "[[ 0.28395852  0.86962001 -0.03319585]\n",
      " [-0.84600867 -0.37380563 -1.12319727]\n",
      " [ 0.05139747  0.31853135  0.93100065]\n",
      " [ 0.51065268 -0.81434573  0.22539247]]\n"
     ]
    }
   ],
   "source": [
    "#6. Среднее + корень\n",
    "a = sps.norm.rvs(size = (4,3))\n",
    "print(a)\n",
    "a -= np.mean(a, axis = 0)\n",
    "print(a)"
   ]
  },
  {
   "cell_type": "code",
   "execution_count": 24,
   "id": "8ee90b61",
   "metadata": {},
   "outputs": [],
   "source": [
    "#7. Скалярное произведение"
   ]
  },
  {
   "cell_type": "code",
   "execution_count": null,
   "id": "23c9a5d6",
   "metadata": {},
   "outputs": [],
   "source": [
    "#8. График"
   ]
  }
 ],
 "metadata": {
  "kernelspec": {
   "display_name": "Python 3 (ipykernel)",
   "language": "python",
   "name": "python3"
  },
  "language_info": {
   "codemirror_mode": {
    "name": "ipython",
    "version": 3
   },
   "file_extension": ".py",
   "mimetype": "text/x-python",
   "name": "python",
   "nbconvert_exporter": "python",
   "pygments_lexer": "ipython3",
   "version": "3.9.7"
  }
 },
 "nbformat": 4,
 "nbformat_minor": 5
}
