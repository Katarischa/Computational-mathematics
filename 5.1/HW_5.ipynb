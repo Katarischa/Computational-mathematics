{
 "cells": [
  {
   "cell_type": "code",
   "execution_count": 1,
   "id": "879e00d2",
   "metadata": {},
   "outputs": [],
   "source": [
    "import numpy as np\n",
    "from scipy.integrate import solve_ivp\n",
    "from matplotlib import pyplot as plt"
   ]
  },
  {
   "cell_type": "markdown",
   "id": "825bbfb9",
   "metadata": {},
   "source": [
    "__Задание 1.__ \n",
    "\n",
    "Решить краевую задачу:\n",
    "\n",
    "$$\n",
    "\\begin{aligned}\n",
    "&y^{\\prime \\prime}+(1-4 x) y^{\\prime}+8 y=5, \\quad 0<x<1 \\\\\n",
    "&y^{\\prime}(0)-y(0)=0 ; \\quad y(1)=0\n",
    "\\end{aligned}\n",
    "$$ "
   ]
  },
  {
   "cell_type": "markdown",
   "id": "1ff82bd3",
   "metadata": {},
   "source": [
    "### Метод линейной интерполяции*\n",
    "\n",
    "Рассмотрим смешанную краевую задачу для уравнения\n",
    "\n",
    " $$\n",
    " y^{\\prime \\prime}+p(x) y^{\\prime}+q(x) y+f(x)=0, \\quad 0<x<l \n",
    " $$\n",
    "\n",
    "Граничные условия возьмем в смешанном виде\n",
    "\n",
    "$$\n",
    "\\begin{gathered}\n",
    "y(0)=a, \\\\\n",
    "y^{\\prime}(l)+\\alpha y(l)=b .\n",
    "\\end{gathered}\n",
    "$$  \n",
    "\n",
    "Выберем любые два значения $\\lambda=\\lambda_{1}, \\;\\lambda=\\lambda_{2}$ и решим две задачи Коши с начальными условиями:\n",
    "\n",
    "$$\n",
    "\\begin{aligned}\n",
    "&y_{1}(0)=a, \\quad  y_{1}^{\\prime}(0)=\\lambda_{1} \\\\\n",
    "&y_{2}(0)=a, \\quad  y_{2}^{\\prime}(0)=\\lambda_{2}\n",
    "\\end{aligned}\n",
    "$$\n",
    "\n",
    "Полученные решения обозначим как $y=y_{1}(x)$ и $y=y_{2}(x)$. Найдем соответствующие значения левых частей в граничном условии.  \n",
    "\n",
    "\\begin{aligned}\n",
    "&y_{1}^{\\prime}(l)+\\alpha y_{1}(l)=b_{1} \\\\\n",
    "&y_{2}^{\\prime}(l)+\\alpha y_{2}(l)=b_{2}\n",
    "\\end{aligned}\n",
    "\n",
    "Теперь значение недостающего начального условия $y^{\\prime}(0)=\\lambda$ можно найти с помощью линейной интерполяции:\n",
    "\n",
    "$$\n",
    "\\frac{\\lambda-\\lambda_{1}}{\\lambda_{2}-\\lambda_{1}}=\\frac{b-b_{1}}{b_{2}-b_{1}} \\quad \\text {, T.e. } \\lambda=\\lambda_{1}+\\left(\\lambda_{2}-\\lambda_{1}\\right) \\frac{b-b_{1}}{b_{2}-b_{1}} .\n",
    "$$\n",
    "\n",
    "Полученное значение $\\lambda$ и будет являться недостающим начальным условием. Объясняется это линейностью задачи. Как известно, дифференциальное уравнение имеет общее решение\n",
    "\n",
    "$$\n",
    "y(x)=c_{1} u_{1}(x)+c_{2} u_{2}(x)+y_{n}(x),\n",
    "$$\n",
    "\n",
    "где $u_{1}(x)$ и $u_{2}(x)$ - линейно-независимые решения однородного уравнения (при $f(x) \\equiv 0)$, а $y_{n}(x)$ - какое-либо решение неоднородного уравнения (частное решение неоднородного уравнения). Удовлетворяя левому граничному условию, в общем решении останется одна неизвестная постоянная, которая входит в выражение для $y(x)$ линейным образом. Проведя в плоскости $(\\lambda, b)$ прямую, проходящую через две точки $\\left(\\lambda_{1}, b_{1}\\right)$ и $\\left(\\lambda_{2}, b_{2}\\right)$ при заданном значении $b$ мы однозначно найдем точное значение $\\lambda$.  \n",
    "\n",
    "Теперь таблицу значений функции $y(x)$ (и ее производной) можно найти интерполяцией $y(x)=y_{1}(x)+\\left[y_{1}(x)-y_{1}(x)\\right] \\cdot \\frac{\\lambda-\\lambda_{1}}{\\lambda_{2}-\\lambda_{1}}$.\n",
    "\n",
    "Однако на практике, жертвуя машинным временем, обычно проводят третий расчет задачи Коши с условиями\n",
    "$$\n",
    "y(0)=a, \\quad y^{\\prime}(0)=\\lambda .\n",
    "$$\n",
    "\n",
    "__Замечание.__\n",
    "\n",
    " На практике обычно выбирают простейшие значения $\\lambda$, например $\\lambda_{1}=1$ и $\\lambda_{2}=0$. При этом, если само уравнение является однородным, т.е. $f(x) \\equiv 0$, и граничное условие так же однородное, $y(0)=0$, то решение имеет вид $y_{2}(x) \\equiv 0, b_{2}=0$. Тогда второй расчет (при $\\lambda_{2}=0$ ) нет необходимости производить и формула даст ответ в виде\n",
    "\n",
    "$$\n",
    "\\lambda=\\lambda_{1} \\frac{b}{b_{1}} .\n",
    "$$\n",
    "\n",
    "Поэтому, если предложено решить однородное уравнение, то следует посмотреть, есть ли однородное граничное условие и если оно есть, то начинать расчет следует от этой границы! Эта рекомендация остается в силе и для других методов решения краевых задач."
   ]
  },
  {
   "cell_type": "code",
   "execution_count": 41,
   "id": "1261ae27",
   "metadata": {},
   "outputs": [
    {
     "data": {
      "text/plain": [
       "[<matplotlib.lines.Line2D at 0x1c852b8dbb0>]"
      ]
     },
     "execution_count": 41,
     "metadata": {},
     "output_type": "execute_result"
    },
    {
     "data": {
      "image/png": "[encoded data removed]",
      "text/plain": [
       "<Figure size 432x288 with 1 Axes>"
      ]
     },
     "metadata": {
      "needs_background": "light"
     },
     "output_type": "display_data"
    }
   ],
   "source": [
    "def f(t, y):\n",
    "    return y[1],  5 - 8 * y[0] - y[1] * (1 - 4 * t) \n",
    "\n",
    "y1 = solve_ivp(f, (0, 1), [0, 0], rtol=1e-10)\n",
    "y2 = solve_ivp(f, (0, 1), [0, 1], rtol=1e-10)\n",
    "\n",
    "b1 = y1.y[1][y1.y[1].shape[0] - 1] - y1.y[0][y1.y[0].shape[0] - 1]\n",
    "b2 = y2.y[1][y2.y[1].shape[0] - 1] - y2.y[0][y2.y[0].shape[0] - 1]\n",
    "lmb = -b1 / (b2 - b1)\n",
    "result = solve_ivp(f, (0, 1), [0, lmb], rtol=1e-10)\n",
    "\n",
    "plt.plot(1 - result.t, result.y[0])"
   ]
  },
  {
   "cell_type": "markdown",
   "id": "3e286b0e",
   "metadata": {},
   "source": [
    "__Задание 2.__ \n",
    "\n",
    "Рассмотрим решение следущей граничной задачи\n",
    "\n",
    "$$\n",
    "\\begin{gathered}\n",
    "d^{2} y / d x^{2}=-y+x \\cos x \\\\\n",
    "\\\\\n",
    "d y(0) / d x=3 y(0)+2, \\quad d y(\\pi / 2) / d x=-5 y(\\pi / 2)+2 .\n",
    "\\end{gathered}\n",
    "$$\n",
    "\n",
    "Известно точное решение этой задачи\n",
    "\n",
    "$$\n",
    "y=-0.73 \\cos x-0.441 \\sin x+(1 / 4)\\left(x^{2} \\sin x+x \\cos x\\right),\n",
    "$$\n",
    "\n",
    "откуда\n",
    "\n",
    "$$\n",
    "y(\\pi / 2)=0.175 \\text { и } d y(\\pi / 2) / d x=1.122 .\n",
    "$$\n",
    "\n",
    "Найдите эти граничные значения, решая задачу методом дифференциальной прогонки. "
   ]
  },
  {
   "cell_type": "markdown",
   "id": "83037503",
   "metadata": {},
   "source": [
    "### Метод дифференциальной прогонки\n",
    "\n",
    "Имеем уравнение из примера:\n",
    "\n",
    "$$\n",
    "\\begin{aligned}\n",
    "& y^{\\prime \\prime}+q(x) y^{\\prime}-p(x) y=f(x), \\quad 0<x \\leq 1 \\\\\n",
    "& y(0)=Y_0, \\quad y(1)=Y_1\n",
    "\\end{aligned}\n",
    "$$\n",
    "\n",
    "Перепишем это уравнение в виде следующей системы (естественно, это можно сделать не единственным способом)\n",
    "\n",
    "$$\n",
    "\\left\\{\\begin{aligned}\n",
    "& \\frac{d y}{d x}=a(x) v+b(x) \\\\\n",
    "& \\frac{d v}{d x}=c(x) y+g(x)\n",
    "\\end{aligned} \\right .\n",
    "$$\n",
    "\n",
    "И будем искать решение в виде т.н. __прогоночного соотношения__:\n",
    "\n",
    "$$\n",
    "y(x)=\\alpha(x) v(x)+\\beta(x)\n",
    "$$\n",
    "\n",
    "где $\\alpha(x)$ и $\\beta(x)$ - пока неизвестные функции (__прогоночные коэффициенты__), для которых необходимо получить дифференциальные уравнения.\n",
    "\n",
    "Тогда, решение можно найти, решив следующие 3 задачи Коши в соответствующем порядке:\n",
    "\n",
    "$$\n",
    "\\begin{aligned}\n",
    "& \\alpha^{\\prime}(x)+c \\cdot \\alpha^2(x)-a=0, \\quad \\alpha(0)=0 \\\\ \\\\\n",
    "& \\beta^{\\prime}(x)+\\alpha \\cdot \\beta (x) \\cdot c+\\alpha \\cdot g-b=0, \\quad \\beta(0)=Y_0\\\\ \\\\\n",
    "& v^{\\prime}(x)=\\alpha \\cdot c \\cdot v(x)+c \\cdot \\beta+g, \\quad v(1)=\\cfrac{Y_1 - \\beta(1)}{\\alpha(1)}\n",
    "\\end{aligned}\n",
    "$$\n",
    "\n",
    "Метод очень хорош для нежестких задач."
   ]
  },
  {
   "cell_type": "code",
   "execution_count": 77,
   "id": "8d644dc5",
   "metadata": {},
   "outputs": [
    {
     "data": {
      "text/plain": [
       "[<matplotlib.lines.Line2D at 0x1c8530bed30>]"
      ]
     },
     "execution_count": 77,
     "metadata": {},
     "output_type": "execute_result"
    },
    {
     "data": {
      "image/png": "[encoded data removed]",
      "text/plain": [
       "<Figure size 432x288 with 1 Axes>"
      ]
     },
     "metadata": {
      "needs_background": "light"
     },
     "output_type": "display_data"
    }
   ],
   "source": [
    "def f(t, y):\n",
    "    return y[1]+2, t * np.cos(t) - y[0]\n",
    "result = solve_ivp(f, (0, np.pi / 2), [1, 3], rtol=1e-10)\n",
    "\n",
    "\n",
    "plt.plot(result.y[0], result.y[1])"
   ]
  },
  {
   "cell_type": "code",
   "execution_count": null,
   "id": "7d69e83e",
   "metadata": {},
   "outputs": [],
   "source": []
  },
  {
   "cell_type": "code",
   "execution_count": null,
   "id": "18528c4d",
   "metadata": {},
   "outputs": [],
   "source": []
  },
  {
   "cell_type": "code",
   "execution_count": null,
   "id": "49795953",
   "metadata": {},
   "outputs": [],
   "source": []
  },
  {
   "cell_type": "code",
   "execution_count": null,
   "id": "31d6ba0f",
   "metadata": {},
   "outputs": [],
   "source": []
  },
  {
   "cell_type": "code",
   "execution_count": null,
   "id": "50ca5e15",
   "metadata": {},
   "outputs": [],
   "source": []
  },
  {
   "cell_type": "code",
   "execution_count": null,
   "id": "2ba7cac0",
   "metadata": {},
   "outputs": [],
   "source": []
  },
  {
   "cell_type": "code",
   "execution_count": null,
   "id": "caa1904e",
   "metadata": {},
   "outputs": [],
   "source": []
  },
  {
   "cell_type": "markdown",
   "id": "c1400200",
   "metadata": {},
   "source": [
    "__Задание 3.__ \n",
    "\n",
    "Напишите программу, которая решает нелинейное уравнение Пуассона:\n",
    "\n",
    "$$\n",
    "\\phi^{\\prime \\prime}(x)=e^{\\phi(x)}-n(x), \\quad \\text { где } n(x)=1+e^{-3(x-5)^{2}}  \n",
    "$$\n",
    "\n",
    "в области $0<=x<=10$ с граничными условиями $\\phi(0)=\\phi(10)=0 .$\n"
   ]
  },
  {
   "cell_type": "markdown",
   "id": "8700b526",
   "metadata": {},
   "source": [
    "### Метод стрельбы \n",
    "\n",
    "Хотим решить __краевую задачу__\n",
    "\n",
    "$$\n",
    "\\begin{aligned}\n",
    "& y^{\\prime \\prime}=f\\left(x, y, y^{\\prime}\\right), \\quad 0<x \\leq 1, \\\\\n",
    "& y(0)=Y_0, \\quad y(1)=Y_1\n",
    "\\end{aligned}\n",
    "$$\n",
    "\n",
    "Пусть умеем решать __задачу Коши__ для произвольного __пристрелочного параметра__ $\\alpha$:\n",
    "\n",
    "$$\n",
    "\\begin{aligned}\n",
    "& y^{\\prime \\prime}=f\\left(x, y, y^{\\prime}\\right), \\quad 0<x \\leq 1, \\\\\n",
    "& y(0)=Y_0, \\quad y^{\\prime}(0)=\\alpha\n",
    "\\end{aligned}\n",
    "$$\n",
    "\n",
    "Обозначим решение этой задачи Коши как $y_\\alpha(x)$\n",
    "\n",
    "Наша цель - __найти__ такой $\\alpha = \\alpha^*$, что полученное решение удовлетворяет изначальным краевым условиям. Иначе, хотим найти ноль следующей функции:\n",
    "\n",
    "$$\n",
    "F(\\alpha)=y_\\alpha(1)-Y_1\n",
    "$$\n",
    "\n",
    "$$\n",
    "F(\\alpha^*)=0\n",
    "$$\n",
    "\n",
    "Это можно делать с помощью любого алгоритма поиска нуля численно заданной функции (см. решение нелинейных уравнений), например, дихотомией или итерацией по Ньютону:\n",
    "\n",
    "$$\n",
    "\\alpha_{n+1}=\\alpha_n-\\frac{F\\left(\\alpha_n\\right)}{F^{\\prime}\\left(\\alpha_n\\right)}\n",
    "$$\n",
    "\n",
    "$$\n",
    "F^{\\prime}\\left(\\alpha_n\\right)\\approx\\frac{F\\left(\\alpha_n+h\\right)-F\\left(\\alpha_n\\right)}{h}\n",
    "$$"
   ]
  },
  {
   "cell_type": "code",
   "execution_count": 47,
   "id": "1f0e1605",
   "metadata": {},
   "outputs": [
    {
     "data": {
      "image/png": "[encoded data removed]",
      "text/plain": [
       "<Figure size 432x288 with 1 Axes>"
      ]
     },
     "metadata": {
      "needs_background": "light"
     },
     "output_type": "display_data"
    }
   ],
   "source": [
    "from scipy.optimize import newton\n",
    "def euler_Poisson_solver(s, l, h):\n",
    "    n_steps = int(l / h)\n",
    "    xs = np.arange(n_steps+1)*h\n",
    "    u = np.empty(n_steps+1)\n",
    "    v = np.empty(n_steps+1)\n",
    "    U = np.empty(n_steps+1)\n",
    "    V = np.empty(n_steps+1)\n",
    "    u[0] =0\n",
    "    v[0] = s\n",
    "    U[0] = 0\n",
    "    V[0] = 1\n",
    "    for i in range(n_steps):\n",
    "        u[i+1] = u[i] + v[i] * h\n",
    "        v[i+1] = v[i] + h * (np.e**u[i] - (1 + np.e**(-3 * (i * h - 5)**2)))\n",
    "        U[i+1] = U[i] + h * V[i]\n",
    "        V[i+1] = V[i] + h * U[i] * np.e**u[i]\n",
    "    return xs, u, v, U, V\n",
    "def func(s):\n",
    "    l = 10\n",
    "    h = 0.1\n",
    "    return euler_Poisson_solver(s, l, h)[1][int(l / h)]\n",
    "def func_prime(s):\n",
    "    l = 10\n",
    "    h = 0.1\n",
    "    return euler_Poisson_solver(s, l, h)[3][int(l / h)]\n",
    "s0 = newton(func, 0.007, fprime=func_prime, tol=1e-10, full_output=True)\n",
    "xs, u, v, U, V = euler_Poisson_solver(s0[0], 10, 0.1)\n",
    "plt.plot(xs, u)\n",
    "plt.show()"
   ]
  },
  {
   "cell_type": "markdown",
   "id": "5e5d9b5d",
   "metadata": {},
   "source": []
  },
  {
   "cell_type": "code",
   "execution_count": null,
   "id": "01f3fbe3",
   "metadata": {},
   "outputs": [],
   "source": []
  },
  {
   "cell_type": "code",
   "execution_count": 49,
   "id": "7dcf9dcc",
   "metadata": {},
   "outputs": [],
   "source": [
    "import numpy as np\n",
    "def pend(y, x, b, c):\n",
    "    theta, omega = y\n",
    "    dydt = [omega, -b*omega - c*np.sin(theta)]\n",
    "    return dydt\n",
    "\n",
    "b = 0.25\n",
    "c = 5.0"
   ]
  },
  {
   "cell_type": "code",
   "execution_count": 50,
   "id": "5bb5bec2",
   "metadata": {},
   "outputs": [],
   "source": [
    "y0 = [np.pi - 0.1, 0.0]\n",
    "t = np.linspace(0, 10, 101)"
   ]
  },
  {
   "cell_type": "code",
   "execution_count": 51,
   "id": "11e9d02b",
   "metadata": {},
   "outputs": [],
   "source": [
    "from scipy.integrate import odeint\n",
    "sol = odeint(pend, y0, t, args=(b, c))"
   ]
  },
  {
   "cell_type": "code",
   "execution_count": 52,
   "id": "f842414e",
   "metadata": {},
   "outputs": [
    {
     "data": {
      "image/png": "[encoded data removed]",
      "text/plain": [
       "<Figure size 432x288 with 1 Axes>"
      ]
     },
     "metadata": {
      "needs_background": "light"
     },
     "output_type": "display_data"
    }
   ],
   "source": [
    "import matplotlib.pyplot as plt\n",
    "plt.plot(t, sol[:, 0], 'b', label='theta(t)')\n",
    "plt.plot(t, sol[:, 1], 'g', label='omega(t)')\n",
    "plt.legend()\n",
    "plt.grid()\n",
    "plt.show()"
   ]
  },
  {
   "cell_type": "code",
   "execution_count": null,
   "id": "0fbdb8b1",
   "metadata": {},
   "outputs": [],
   "source": []
  }
 ],
 "metadata": {
  "kernelspec": {
   "display_name": "Python 3 (ipykernel)",
   "language": "python",
   "name": "python3"
  },
  "language_info": {
   "codemirror_mode": {
    "name": "ipython",
    "version": 3
   },
   "file_extension": ".py",
   "mimetype": "text/x-python",
   "name": "python",
   "nbconvert_exporter": "python",
   "pygments_lexer": "ipython3",
   "version": "3.9.7"
  }
 },
 "nbformat": 4,
 "nbformat_minor": 5
}
