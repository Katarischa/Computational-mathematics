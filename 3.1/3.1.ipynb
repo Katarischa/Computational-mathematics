{
 "cells": [
  {
   "cell_type": "markdown",
   "metadata": {
    "id": "MeXTSdSfKdL2"
   },
   "source": [
    "## *Задача 1. Генераторы разреженных матриц* \n"
   ]
  },
  {
   "cell_type": "markdown",
   "metadata": {
    "id": "19smb2owQS40"
   },
   "source": [
    "Реализовать с помощью scipy генератор полосатых матриц, который должен поддерживать функции:\n",
    "* Генерация абсолютно случайной полосатой матрицы $n\\times m$\n",
    "* Генерация полосатой матрицы с постоянными коэффициентами вдоль каждой полосы $n\\times n$\n",
    "* Генерация случайного возмущения матрицы $n\\times m$, каждый элемент которой не превосходит по модулю заданный $\\varepsilon$\n",
    "* Генерация полосатой матрицы, в которой полосы заданы векторами.\n",
    "\n",
    " Сравнить три приведённых ниже метода создания матриц между собой по использованию памяти, используя измерение размера объектов в Python (sys.getsizeof(object[, default])). \n",
    " Реализовать генератор матриц всеми тремя методами, сравнить их также по скорости (для решения систем уравнений).\n",
    "\n",
    "Для повышения производительности можно использовать sparse.linalg.splu(A).solve(b) , который использует LU-декомпозицию, после чего объект SuperLU  имеет свой собственный метод solve.\n",
    "\n",
    "Реализуйте генератор матриц, используя этот метод. \n",
    "https://docs.scipy.org/doc/scipy/reference/sparse.linalg.html#module-scipy.sparse.linalg   \n",
    "\n",
    "Убедитесь измерением времени работы, что он работает быстрее. Однако третий метод считается самым предпочтительным. Найдите, в чём недостаток предложенного метода, и покажите его с помощью измерений.\n",
    "\n",
    "Для измерений можно использовать \n",
    "\n",
    "https://docs.python.org/3/library/resource.html#resource-usage  "
   ]
  },
  {
   "cell_type": "code",
   "execution_count": null,
   "metadata": {
    "id": "fpAZctoEOXxC"
   },
   "outputs": [],
   "source": [
    "import sys as ss\n",
    "import scipy\n",
    "import numpy as np\n",
    "N = 10\n",
    "m = 3\n",
    "Ap, As, An, Aw, Ae = np.ones(N), np.ones(N), np.ones(N), np.ones(N), np.ones(N)\n",
    "diagonals = [Ap, As, An, Aw, Ae]\n",
    "A = scipy.sparse.diags(diagonals, [0, -1, 1, -m, m]).toarray()\n",
    "x = scipy.linalg.solve(A, b)\n",
    "print(A, x, sep = '\\n')\n"
   ]
  },
  {
   "cell_type": "code",
   "execution_count": null,
   "metadata": {
    "id": "erDyhJCuQyfz"
   },
   "outputs": [],
   "source": [
    "import sys as ss\n",
    "import scipy\n",
    "import numpy as np\n",
    "N = 10 \n",
    "m = 3\n",
    "Ap, As, An, Aw, Ae = np.ones(N), np.ones(N), np.ones(N), np.ones(N), np.ones(N)\n",
    "A = np.zeros((2 * m + 1, N))\n",
    "A[0] = Ae\n",
    "A[m - 1] = An\n",
    "A[m] = Ap\n",
    "A[m + 1] = As\n",
    "A[2 * m] = Aw\n",
    "x = scipy.linalg.solve_banded((m, m), A, b)\n",
    "print(A, x, sep = '\\n')"
   ]
  },
  {
   "cell_type": "code",
   "execution_count": null,
   "metadata": {
    "id": "qk7z0LV1TR6y"
   },
   "outputs": [],
   "source": [
    "import sys as ss\n",
    "import scipy\n",
    "import numpy as np\n",
    "from scipy.sparse.linalg import spsolve\n",
    "N = 10\n",
    "m = 3\n",
    "Ap, As, An, Aw, Ae = np.ones(N), np.ones(N), np.ones(N), np.ones(N), np.ones(N)\n",
    "diagonals = [Ap, As, An, Aw, Ae]\n",
    "A = scipy.sparse.diags(diagonals, [0, -1, 1, -m, m])\n",
    "x = spsolve(A,b)\n",
    "\n",
    "# убрали .toarray() - чтобы сохранить разреженную форму\n",
    "\n",
    "# https://docs.scipy.org/doc/scipy/reference/sparse.linalg.html#module-scipy.sparse.linalg \n",
    "\n",
    "print(A, x, sep = '\\n')\n"
   ]
  },
  {
   "cell_type": "markdown",
   "metadata": {
    "id": "sS3EHa1aKmJi"
   },
   "source": [
    "# Задача 2. Метод Якоби.\n"
   ]
  },
  {
   "cell_type": "markdown",
   "metadata": {
    "id": "scYTfKDO7lTJ"
   },
   "source": [
    "Реализуйте метод итераций для решения системы линейных уравнений (метод Якоби). Для этого перепишите уравнение $A x=b$, выделив диагональную часть матрицы $A$ :\n",
    "\n",
    "$$\n",
    "A=D+(A-D),\n",
    "$$\n",
    "\n",
    "в виде\n",
    "\n",
    "$$\n",
    "x_{n+1}=B x_n+c,\n",
    "$$\n",
    "\n",
    "где $B=D^{-1}(D-A)$. Найдите $c$.\n",
    "Создайте случайную матрицу с диагональным доминированием. \n",
    "\n"
   ]
  },
  {
   "cell_type": "markdown",
   "metadata": {},
   "source": [
    "Вычислим $c$:\n",
    "$$\\begin{cases}x = A^{-1}b\\\\ x = Bx + c\\end{cases}\\Longrightarrow A^{-1}b = D^{-1}(D-A)A^{-1}b+c$$\n",
    "$$c = \\left[E-D^{-1}(D-A)\\right]A^{-1}b = (E-E+D^{-1}A)A^{-1}b = D^{-1}b$$"
   ]
  },
  {
   "cell_type": "code",
   "execution_count": 14,
   "metadata": {
    "id": "ZONatbD77wU7"
   },
   "outputs": [
    {
     "name": "stdout",
     "output_type": "stream",
     "text": [
      "0.36436161983015336\n",
      "x =  [ 0.0392024   0.03780731  0.04283908  0.0236679   0.05745461 -0.00029566\n",
      " -0.00576838  0.03178086 -0.00422128  0.05285273]\n",
      "||Ax-b|| =  0.00041773266948415554\n"
     ]
    }
   ],
   "source": [
    "import numpy as np\n",
    "rnd = np.random. RandomState (1234)\n",
    "n=10\n",
    "A= rnd.uniform (size=(n,n))+np.diag([15]*n)\n",
    "b= rnd.uniform (size=n)\n",
    "\n",
    "def m_ja(A, b, eps):\n",
    "    D = np.diag(A.diagonal())\n",
    "    D_rev = np.diag(1/A.diagonal())\n",
    "    B = D_rev @ (D-A)\n",
    "    c = D_rev @ b\n",
    "    q = np.linalg.norm(B)\n",
    "    x1 = c\n",
    "    x2 = B @ x1 + c\n",
    "    while (np.linalg.norm(x1-x2)>np.abs(1-q)/q*eps):\n",
    "        x1 = x2\n",
    "        x2 = B @ x1 + c\n",
    "    return x2, q\n",
    "\n",
    "x, q = m_ja(A, b, 0.0001)\n",
    "print(q)\n",
    "print('x = ', x)\n",
    "print('||Ax-b|| = ',np.linalg.norm(A@x -b))\n",
    "\n"
   ]
  },
  {
   "cell_type": "markdown",
   "metadata": {
    "id": "gk0Vecog7wpq"
   },
   "source": [
    "Вычислите норму соотвутствующей матрицы $B$ и выполните итерации Якоби. Убедитесь, что результирующий вектор $x$ действительно решает исходную систему.\n",
    "\n",
    "Матрица $A$, с которой вы работали выше, по построению доминируется диагональю. Что произойдёт, если уменьшать величину диагональных элементов? Проверьте сходимость итераций Якоби (вычислите также норму матрицы $B$ ). "
   ]
  },
  {
   "cell_type": "markdown",
   "metadata": {},
   "source": [
    "### Ответ:\n",
    "При уменьшении величины диагональных элементов, равно или поздно перестанет выполнятся необходимый критерий сходимости, поскольку корни фигурирующего в нем уравнения будут неограниченно расти."
   ]
  },
  {
   "cell_type": "code",
   "execution_count": 19,
   "metadata": {},
   "outputs": [
    {
     "name": "stdout",
     "output_type": "stream",
     "text": [
      "[nan, nan, nan, 8.130384535027016e-05, 1.1187969322072071e-05, 7.114283107879501e-05, 0.0001351192513201172, 0.00022492427919581484, 0.00016910314585478708, 0.0003426716310983888, 0.0002381404984782508, 0.00021337705392690708, 0.0002740842410014799, 0.0006405458363396945]\n",
      "норма B:  [3.381454988667923, 2.180177345944299, 1.487464506820737, 1.2301600433893407, 0.9674967043889413, 0.8635109618030683, 0.7738018388528338, 0.6634686894962533, 0.6476875593870375, 0.5354897625740679, 0.5130340158499167, 0.41783796245416344, 0.417308189543854, 0.3922085435864345]\n"
     ]
    },
    {
     "name": "stderr",
     "output_type": "stream",
     "text": [
      "c:\\Users\\ma-ku\\AppData\\Local\\Programs\\Python\\Python37\\lib\\site-packages\\ipykernel_launcher.py:17: RuntimeWarning: overflow encountered in matmul\n",
      "c:\\Users\\ma-ku\\AppData\\Local\\Programs\\Python\\Python37\\lib\\site-packages\\ipykernel_launcher.py:15: RuntimeWarning: overflow encountered in subtract\n",
      "  from ipykernel import kernelapp as app\n",
      "c:\\Users\\ma-ku\\AppData\\Local\\Programs\\Python\\Python37\\lib\\site-packages\\ipykernel_launcher.py:17: RuntimeWarning: invalid value encountered in matmul\n"
     ]
    }
   ],
   "source": [
    "Q = []\n",
    "N = []\n",
    "for i in range(1,15):\n",
    "    A= rnd.uniform (size=(n,n))+np.diag([i]*n)\n",
    "    b= rnd.uniform (size=n)\n",
    "    x, q = m_ja(A, b, 0.0001)\n",
    "    Q.append(q)\n",
    "    N.append(np.linalg.norm(A@x -b))\n",
    "\n",
    "print(N)\n",
    "print(\"норма B: \",Q)"
   ]
  },
  {
   "cell_type": "markdown",
   "metadata": {},
   "source": [
    "Как видно при $i>3$ метод сходится, а вот начиная с 3 уже нет. При этом чем меньше величина диагональных элементов, тем больше норма матрицы B"
   ]
  },
  {
   "cell_type": "markdown",
   "metadata": {
    "id": "gpR6GBRtKmXq"
   },
   "source": [
    "# Задача 3. Метод вращений и QR-разложение."
   ]
  },
  {
   "cell_type": "markdown",
   "metadata": {
    "id": "IsnxYiIS9_qT"
   },
   "source": [
    "После первой стадии метода вращений Гивенса система имеет вид "
   ]
  },
  {
   "cell_type": "markdown",
   "metadata": {
    "id": "o38hlqPO9g7r"
   },
   "source": [
    "\\begin{aligned}\n",
    "&a_{11}^{(n-1)} x_1+a_{12}^{(n-1)} x_2+a_{13}^{(n-1)} x_3+\\ldots+a_{1 n}^{(n-1)} x_n=b_1^{(n-1)}\\\\\n",
    "&a_{22}^{(1)} x_2+a_{23}^{(1)} x_3+\\ldots+a_{2 n}^{(1)} x_n=b_2^{(1)} \\text {, }\\\\\n",
    "\\ldots\\\\\n",
    "&a_{n 2}^{(1)} x_2+a_{n 3}^{(1)} x_3+\\ldots+a_{n n}^{(1)} x_n=b_n^{(1)} .\n",
    "\\end{aligned} "
   ]
  },
  {
   "cell_type": "markdown",
   "metadata": {
    "id": "qq33P4d7-DjQ"
   },
   "source": [
    "Доказать следующие формулы: \n",
    "$$\n",
    "\\begin{aligned}\n",
    "&a_{1 j}^{(l-1)}=c_{1 l} a_{1 j}^{(l-2)}+s_{1 l} a_{l j}, \\quad a_{l j}^{(1)}=-s_{1 l} a_{1 j}^{(l-2)}+c_{1 l} a_{l j}, \\quad a_{1 j}^{(0)}=a_{1 j},\\\\\n",
    "&\\begin{aligned}\n",
    "& j=1,2, \\ldots, n, \\\\\n",
    "b_1^{(l-1)}=c_{1 l} b_1^{(l-2)}+s_{1 l} b_l, \\quad \\quad b_l^{(1)}=&-s_{1 l} b_1^{(l-2)}+c_{1 l} b_l, \\\\\n",
    "l=2,3, \\ldots, n,\n",
    "\\end{aligned}\\\\\n",
    "&c_{1 l}=\\frac{a_{11}^{(l-2)}}{\\sqrt{\\left(a_{11}^{(l-2)}\\right)^2+a_{l 1}^2}}, \\quad s_{1 l}=\\frac{a_{l 1}}{\\sqrt{\\left(a_{11}^{(l-2)}\\right)^2+a_{l 1}^2}},\n",
    "\\\\\n",
    "& l=2,3, \\ldots, n,\\\\\n",
    "\\end{aligned}\n",
    "$$"
   ]
  },
  {
   "cell_type": "markdown",
   "metadata": {
    "id": "kPjp8qP0-4Cp"
   },
   "source": [
    "После второй стадии метода вращения Гивенса система уравнений имеет вид:\n",
    "\n",
    "\\begin{aligned}\n",
    "&a_{11}^{(n-1)} x_1+a_{12}^{(n-1)} x_2+a_{13}^{(n-1)} x_3+\\ldots+a_{1 n}^{(n-1)} x_n=b_1^{(n-1)}\\\\\n",
    "&a_{22}^{(n-1)} x_2+a_{23}^{(n-1)} x_3+\\ldots+a_{2 n}^{(n-1)} x_n=b_2^{(n-1)} \\text {, }\\\\\n",
    "&a_{33}^{(2)} x_3+\\ldots+a_{3 n}^{(2)} x_n=b_3^{(2)} \\text {, }\\\\\n",
    "\\ldots \\\\\n",
    "&a_{n 3}^{(2)} x_3+\\ldots+a_{n n}^{(2)} x_n=b_n^{(2)}\n",
    "\\end{aligned}  "
   ]
  },
  {
   "cell_type": "markdown",
   "metadata": {
    "id": "lJxuwUP-_KRZ"
   },
   "source": [
    "Доказать следующие формулы \n",
    "$$\n",
    "\\begin{aligned}\n",
    "&a_{2 j}^{(l-1)}=c_{2 l} a_{2 j}^{(l-2)}+s_{2 l} a_{l j}^{(1)}, \\quad a_{l j}^{(2)}=-s_{2 l} a_{2 j}^{(l-2)}+c_{2 l} a_{l j}^{(1)} \\text {, }\\\\\n",
    "&j=2,3, \\ldots, n\\\\\n",
    "&\\begin{aligned}\n",
    "b_2^{(l-1)}=c_{2 l} b_2^{(l-2)}+s_{2 l} b_l^{(1)}, \\quad \\quad b_l^{(2)}=&-s_{2 l} b_2^{(l-2)}+c_{2 l} b_l^{(1)}, \\\\\n",
    "& l=3,4, \\ldots, n,\n",
    "\\end{aligned}\\\\\n",
    "&c_{2 l}=\\frac{a_{22}^{(l-2)}}{\\sqrt{\\left(a_{22}^{(l-2)}\\right)^2+\\left(a_{l 2}^{(1)}\\right)^2}}, \\quad s_{2 l}=\\frac{a_{l 2}^{(1)}}{\\sqrt{\\left(a_{22}^{(l-2)}\\right)^2+\\left(a_{l 2}^{(1)}\\right)^2}}\n",
    "\\end{aligned}  \n",
    "$$"
   ]
  },
  {
   "cell_type": "markdown",
   "metadata": {
    "id": "FdEaBjGZ_b0i"
   },
   "source": [
    "После (n-1) шагов метода Гивенса получаем систему:\n",
    "\n",
    "\\begin{aligned}\n",
    "&a_{11}^{(n-1)} x_1+a_{12}^{(n-1)} x_2+a_{13}^{(n-1)} x_3+\\ldots+a_{1 n}^{(n-1)} x_n=b_1^{(n-1)},\\\\\n",
    "&a_{22}^{(n-1)} x_2+a_{23}^{(n-1)} x_3+\\ldots+a_{2 n}^{(n-1)} x_n=b_2^{(n-1)} \\text {, }\\\\\n",
    "\\ldots \\\\\n",
    "&a_{n n}^{(n-1)} x_n=b_n^{(n-1)} \\text {, }\n",
    "\\end{aligned}  \n",
    "\n",
    "\n"
   ]
  },
  {
   "cell_type": "markdown",
   "metadata": {
    "id": "sU1UOEWM_rOh"
   },
   "source": [
    "Где\n",
    "\n",
    "\\begin{aligned}\n",
    "&a_{k j}^{(l-1)}=c_{k l} a_{k j}^{(l-2)}+s_{k l} a_{l j}^{(k-1)}, \\quad a_{l j}^{(k)}=-s_{k l} a_{k j}^{(l-2)}+c_{k l} a_{l j}^{(k-1)}\\\\\n",
    "&j=k, k+1, \\ldots, n,\\\\\n",
    "&b_k^{(l-1)}=c_{k l} b_k^{(l-2)}+s_{k l} b_l^{(k-1)}, \\quad b_l^{(k)}=-s_{k l} b_k^{(l-2)}+c_{k l} b_l^{(k-1)} \\text {, }\\\\\n",
    "&k=1, \\ldots, n, \\quad l=k+1, \\ldots, n\n",
    "\\end{aligned} \n",
    "\n",
    "а  \n",
    "$$\n",
    "c_{k l}=\\frac{a_{k k}^{(l-2)}}{\\sqrt{\\left(a_{k k}^{(l-2)}\\right)^2+\\left(a_{l k}^{(k-1)}\\right)^2}}, \\quad s_{k l}=\\frac{a_{l k}^{(k-1)}}{\\sqrt{\\left(a_{k k}^{(l-2)}\\right)^2+\\left(a_{l k}^{(k-1)}\\right)^2}}\n",
    "$$ "
   ]
  },
  {
   "cell_type": "markdown",
   "metadata": {
    "id": "xZE7dz2wZGzd"
   },
   "source": [
    "Доказать, что метод Гивенса реализует QR-разложение матрицы.\n",
    "\n"
   ]
  },
  {
   "cell_type": "markdown",
   "metadata": {
    "id": "-4to-6uKAKdh"
   },
   "source": [
    "$$\n",
    "A=Q R,\n",
    "$$\n",
    "где $Q$ - ортогональная матрица, а $R-$ верхняя треугольная с положительными элементами на главной диагонали."
   ]
  },
  {
   "cell_type": "markdown",
   "metadata": {
    "id": "s8jGlqhJKmpB"
   },
   "source": [
    "# Задача 5. Уравнение Пуассона методом Зейделя."
   ]
  },
  {
   "cell_type": "code",
   "execution_count": 35,
   "metadata": {
    "id": "seY8JppiCsGL"
   },
   "outputs": [],
   "source": [
    "import numpy as np\n",
    "from scipy.linalg import block_diag"
   ]
  },
  {
   "cell_type": "markdown",
   "metadata": {
    "id": "XOsayBHhCt7S"
   },
   "source": [
    "Рассмотрим систему линейных уравнений, матрица правой части которой является \"ленточной\" и имеет следующую структуру: ненулевые элементы расположены на трех центральных диагонялях и на двух \"крыльях\". Матрицы такой структуры возникают, например, при решении задачи на нахождение электростатического потенциала $\\varphi(x, y)$, создаваемого двумерным распределением заряда $\\rho(x, y)$ при дискретизации на сетке уравнения Пуассона\n",
    "\n",
    "$$\n",
    "\\Delta \\varphi=-4 \\pi \\rho .\n",
    "$$\n",
    "\n",
    "(детали см. напр. А.А. Самарский, А.В. Гулин, Численные методы, Ч. 3 гл. 1, параграф 1).\n",
    "Размер матрицы растет с уменьшением шага сетки $h$ как $O\\left(1 / h^2\\right)$. Таким образом, приходится иметь дело с разреженными матрицами огромного размера.\n",
    "Матрицу m создадим следующим образом:"
   ]
  },
  {
   "cell_type": "code",
   "execution_count": 1,
   "metadata": {
    "id": "Ds0r91mgC3-C"
   },
   "outputs": [
    {
     "ename": "NameError",
     "evalue": "name 'np' is not defined",
     "output_type": "error",
     "traceback": [
      "\u001b[1;31m---------------------------------------------------------------------------\u001b[0m",
      "\u001b[1;31mNameError\u001b[0m                                 Traceback (most recent call last)",
      "\u001b[1;32m~\\AppData\\Local\\Temp/ipykernel_10076/2407233378.py\u001b[0m in \u001b[0;36m<module>\u001b[1;34m\u001b[0m\n\u001b[0;32m      2\u001b[0m \u001b[1;33m\u001b[0m\u001b[0m\n\u001b[0;32m      3\u001b[0m \u001b[1;31m# Диагональный блок\u001b[0m\u001b[1;33m\u001b[0m\u001b[1;33m\u001b[0m\u001b[0m\n\u001b[1;32m----> 4\u001b[1;33m \u001b[0ma\u001b[0m \u001b[1;33m=\u001b[0m \u001b[0mnp\u001b[0m\u001b[1;33m.\u001b[0m\u001b[0mzeros\u001b[0m\u001b[1;33m(\u001b[0m\u001b[1;33m(\u001b[0m\u001b[0mn\u001b[0m\u001b[1;33m-\u001b[0m\u001b[1;36m1\u001b[0m\u001b[1;33m,\u001b[0m \u001b[0mn\u001b[0m\u001b[1;33m-\u001b[0m\u001b[1;36m1\u001b[0m\u001b[1;33m)\u001b[0m\u001b[1;33m)\u001b[0m\u001b[1;33m\u001b[0m\u001b[1;33m\u001b[0m\u001b[0m\n\u001b[0m\u001b[0;32m      5\u001b[0m \u001b[1;33m\u001b[0m\u001b[0m\n\u001b[0;32m      6\u001b[0m \u001b[0midx\u001b[0m \u001b[1;33m=\u001b[0m \u001b[0mnp\u001b[0m\u001b[1;33m.\u001b[0m\u001b[0marange\u001b[0m\u001b[1;33m(\u001b[0m\u001b[0mn\u001b[0m\u001b[1;33m-\u001b[0m\u001b[1;36m1\u001b[0m\u001b[1;33m)\u001b[0m\u001b[1;33m\u001b[0m\u001b[1;33m\u001b[0m\u001b[0m\n",
      "\u001b[1;31mNameError\u001b[0m: name 'np' is not defined"
     ]
    }
   ],
   "source": [
    "n = 5\n",
    "\n",
    "# Диагональный блок\n",
    "a = np.zeros((n-1, n-1))\n",
    "\n",
    "idx = np.arange(n-1)\n",
    "\n",
    "a[idx, idx] = -4\n",
    "a[idx[:-1], idx[:-1]+1] = 1\n",
    "a[idx[1:], idx[1:]-1] = 1\n",
    "\n",
    "# собираем блочно-диагональную `m`\n",
    "m = block_diag(a, a, a, a, a)\n",
    "\n",
    "# заполняем \"крылья\"\n",
    "idx = np.arange(m.shape[0])\n",
    "\n",
    "m[idx[:-n+1], idx[:-n+1] + n-1] = 1\n",
    "m[idx[n-1:], idx[n-1:] - n+1] = 1"
   ]
  },
  {
   "cell_type": "code",
   "execution_count": 37,
   "metadata": {
    "colab": {
     "base_uri": "https://localhost:8080/"
    },
    "id": "D98xMZXKDBio",
    "outputId": "756b3b86-328e-4fde-cf7b-f13fa19b3379"
   },
   "outputs": [
    {
     "name": "stdout",
     "output_type": "stream",
     "text": [
      "[[-4.  1.  0.  0.  1.  0.  0.  0.  0.  0.  0.  0.  0.  0.  0.  0.  0.  0.  0.  0.]\n",
      " [ 1. -4.  1.  0.  0.  1.  0.  0.  0.  0.  0.  0.  0.  0.  0.  0.  0.  0.  0.  0.]\n",
      " [ 0.  1. -4.  1.  0.  0.  1.  0.  0.  0.  0.  0.  0.  0.  0.  0.  0.  0.  0.  0.]\n",
      " [ 0.  0.  1. -4.  0.  0.  0.  1.  0.  0.  0.  0.  0.  0.  0.  0.  0.  0.  0.  0.]\n",
      " [ 1.  0.  0.  0. -4.  1.  0.  0.  1.  0.  0.  0.  0.  0.  0.  0.  0.  0.  0.  0.]\n",
      " [ 0.  1.  0.  0.  1. -4.  1.  0.  0.  1.  0.  0.  0.  0.  0.  0.  0.  0.  0.  0.]\n",
      " [ 0.  0.  1.  0.  0.  1. -4.  1.  0.  0.  1.  0.  0.  0.  0.  0.  0.  0.  0.  0.]\n",
      " [ 0.  0.  0.  1.  0.  0.  1. -4.  0.  0.  0.  1.  0.  0.  0.  0.  0.  0.  0.  0.]\n",
      " [ 0.  0.  0.  0.  1.  0.  0.  0. -4.  1.  0.  0.  1.  0.  0.  0.  0.  0.  0.  0.]\n",
      " [ 0.  0.  0.  0.  0.  1.  0.  0.  1. -4.  1.  0.  0.  1.  0.  0.  0.  0.  0.  0.]\n",
      " [ 0.  0.  0.  0.  0.  0.  1.  0.  0.  1. -4.  1.  0.  0.  1.  0.  0.  0.  0.  0.]\n",
      " [ 0.  0.  0.  0.  0.  0.  0.  1.  0.  0.  1. -4.  0.  0.  0.  1.  0.  0.  0.  0.]\n",
      " [ 0.  0.  0.  0.  0.  0.  0.  0.  1.  0.  0.  0. -4.  1.  0.  0.  1.  0.  0.  0.]\n",
      " [ 0.  0.  0.  0.  0.  0.  0.  0.  0.  1.  0.  0.  1. -4.  1.  0.  0.  1.  0.  0.]\n",
      " [ 0.  0.  0.  0.  0.  0.  0.  0.  0.  0.  1.  0.  0.  1. -4.  1.  0.  0.  1.  0.]\n",
      " [ 0.  0.  0.  0.  0.  0.  0.  0.  0.  0.  0.  1.  0.  0.  1. -4.  0.  0.  0.  1.]\n",
      " [ 0.  0.  0.  0.  0.  0.  0.  0.  0.  0.  0.  0.  1.  0.  0.  0. -4.  1.  0.  0.]\n",
      " [ 0.  0.  0.  0.  0.  0.  0.  0.  0.  0.  0.  0.  0.  1.  0.  0.  1. -4.  1.  0.]\n",
      " [ 0.  0.  0.  0.  0.  0.  0.  0.  0.  0.  0.  0.  0.  0.  1.  0.  0.  1. -4.  1.]\n",
      " [ 0.  0.  0.  0.  0.  0.  0.  0.  0.  0.  0.  0.  0.  0.  0.  1.  0.  0.  1. -4.]]\n"
     ]
    }
   ],
   "source": [
    "with np.printoptions(linewidth=99):\n",
    "    print(m)"
   ]
  },
  {
   "cell_type": "code",
   "execution_count": 38,
   "metadata": {
    "colab": {
     "base_uri": "https://localhost:8080/",
     "height": 292
    },
    "id": "EgRdH0oTDHBZ",
    "outputId": "b007ac0e-a833-47ff-9230-b17c60d1c662"
   },
   "outputs": [
    {
     "data": {
      "text/plain": [
       "<matplotlib.image.AxesImage at 0x19fce048148>"
      ]
     },
     "execution_count": 38,
     "metadata": {},
     "output_type": "execute_result"
    },
    {
     "data": {
      "image/png": "[encoded data removed]",
      "text/plain": [
       "<Figure size 288x288 with 1 Axes>"
      ]
     },
     "metadata": {
      "needs_background": "light"
     },
     "output_type": "display_data"
    }
   ],
   "source": [
    "import matplotlib.pyplot as plt\n",
    "plt.matshow(m)"
   ]
  },
  {
   "cell_type": "markdown",
   "metadata": {
    "id": "bPYSMkIgC6Kh"
   },
   "source": [
    "Зададим вектор правой части системы "
   ]
  },
  {
   "cell_type": "code",
   "execution_count": 39,
   "metadata": {
    "id": "gYO494gmDKiR"
   },
   "outputs": [],
   "source": [
    "b = np.zeros(m.shape[0])\n",
    "b[m.shape[0]//2] = -1"
   ]
  },
  {
   "cell_type": "markdown",
   "metadata": {
    "id": "78HFJ2cTDM6K"
   },
   "source": [
    "Составить функцию, вычисляющую решение системы уравнений $m x=b$ методом Зейделя с заданной точностью $\\epsilon$. Прокоментировать зависимость числа итераций, требуемых для достижения заданной точности, от $\\epsilon$. "
   ]
  },
  {
   "cell_type": "code",
   "execution_count": 44,
   "metadata": {},
   "outputs": [
    {
     "name": "stdout",
     "output_type": "stream",
     "text": [
      "x =  [0.02581072 0.05105345 0.06529589 0.03878406 0.05244542 0.11339011\n",
      " 0.17154987 0.08991809 0.07088819 0.17883539 0.41781839 0.14941364\n",
      " 0.05253826 0.11351592 0.17165523 0.08997263 0.02591961 0.05120101\n",
      " 0.06541948 0.03884803]\n",
      "||mx-b|| =  0.0008386444761439609\n",
      "число итераций:  19\n"
     ]
    }
   ],
   "source": [
    "def m_zeid(m, b, eps):\n",
    "    n = len(m)\n",
    "    x = np.zeros(n)\n",
    "    steps = 1\n",
    "    D = np.diag(m.diagonal())\n",
    "    L = np.tril(m)-D\n",
    "    U = np.triu(m)-D\n",
    "    while(np.linalg.norm(m@x-b)>eps):\n",
    "        x = -np.linalg.inv(L + D) @ U @ x  + np.linalg.inv(L + D) @ b\n",
    "        steps+=1\n",
    "    return x, steps\n",
    "\n",
    "x, steps = m_zeid(m,b,0.001)\n",
    "print('x = ', x)\n",
    "print('||mx-b|| = ', np.linalg.norm(m@x-b))\n",
    "print('число итераций: ', steps)"
   ]
  },
  {
   "cell_type": "markdown",
   "metadata": {},
   "source": [
    "Чем выше точность, тем больше требуется итераций."
   ]
  },
  {
   "cell_type": "markdown",
   "metadata": {
    "id": "634QUTkyKnWR"
   },
   "source": [
    "# Задача 6. FAST PYTHON."
   ]
  },
  {
   "cell_type": "markdown",
   "metadata": {
    "id": "TLumOjz5EBcp"
   },
   "source": [
    "Изучите документ FastPython.ipynb .\n",
    "Используя Numba, сделайте ускорение циклов в методе Зейделя в задаче 5.  Сравните время работы ускоренной и неускоренной программ. "
   ]
  }
 ],
 "metadata": {
  "colab": {
   "collapsed_sections": [
    "MeXTSdSfKdL2",
    "sS3EHa1aKmJi",
    "gpR6GBRtKmXq",
    "8-476ZEtKmk5",
    "s8jGlqhJKmpB",
    "634QUTkyKnWR"
   ],
   "provenance": [],
   "toc_visible": true
  },
  "kernelspec": {
   "display_name": "Python 3 (ipykernel)",
   "language": "python",
   "name": "python3"
  },
  "language_info": {
   "codemirror_mode": {
    "name": "ipython",
    "version": 3
   },
   "file_extension": ".py",
   "mimetype": "text/x-python",
   "name": "python",
   "nbconvert_exporter": "python",
   "pygments_lexer": "ipython3",
   "version": "3.9.7"
  },
  "vscode": {
   "interpreter": {
    "hash": "92d2b8e594cd7c5fe295ecb292e5a85e4219fbf5a66ef0020aaca7015d212ad1"
   }
  }
 },
 "nbformat": 4,
 "nbformat_minor": 4
}
